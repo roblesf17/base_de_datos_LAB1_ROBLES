{
    "metadata": {
        "kernelspec": {
            "name": "SQL",
            "display_name": "SQL",
            "language": "sql"
        },
        "language_info": {
            "name": "sql",
            "version": ""
        }
    },
    "nbformat_minor": 2,
    "nbformat": 4,
    "cells": [
        {
            "cell_type": "markdown",
            "source": "<H1><center>UTILIZANDO EXPRESIONES DE TABLA",
            "metadata": {}
        },
        {
            "cell_type": "markdown",
            "source": "1. Utilizando Vistas",
            "metadata": {}
        },
        {
            "cell_type": "markdown",
            "source": "1.1. Accediendo a la base de datos TSQL",
            "metadata": {}
        },
        {
            "cell_type": "code",
            "source": "USE TSQL;\r\nGO",
            "metadata": {},
            "outputs": [
                {
                    "output_type": "display_data",
                    "data": {
                        "text/html": "Commands completed successfully."
                    },
                    "metadata": {}
                },
                {
                    "output_type": "display_data",
                    "data": {
                        "text/html": "Total execution time: 00:00:00.060"
                    },
                    "metadata": {}
                }
            ],
            "execution_count": 1
        },
        {
            "cell_type": "markdown",
            "source": "1.2. Write a SELECT statement to return the productid, productname, supplierid, unitprice, and\r\ndiscontinued columns from the Production.Products table. Filter the results to include only products\r\nthat belong to the category Beverages (categoryid equals 1)",
            "metadata": {}
        },
        {
            "cell_type": "code",
            "source": "select productid , productname , supplierid , unitprice , discontinued from Production.Products  where  categoryid=1",
            "metadata": {},
            "outputs": [
                {
                    "output_type": "display_data",
                    "data": {
                        "text/html": "(12 rows affected)"
                    },
                    "metadata": {}
                },
                {
                    "output_type": "display_data",
                    "data": {
                        "text/html": "Total execution time: 00:00:01.660"
                    },
                    "metadata": {}
                },
                {
                    "output_type": "execute_result",
                    "execution_count": 9,
                    "data": {
                        "application/vnd.dataresource+json": {
                            "schema": {
                                "fields": [
                                    {
                                        "name": "productid"
                                    },
                                    {
                                        "name": "productname"
                                    },
                                    {
                                        "name": "supplierid"
                                    },
                                    {
                                        "name": "unitprice"
                                    },
                                    {
                                        "name": "discontinued"
                                    }
                                ]
                            },
                            "data": [
                                {
                                    "0": "1",
                                    "1": "Product HHYDP",
                                    "2": "1",
                                    "3": "18,0000",
                                    "4": "0"
                                },
                                {
                                    "0": "2",
                                    "1": "Product RECZE",
                                    "2": "1",
                                    "3": "19,0000",
                                    "4": "0"
                                },
                                {
                                    "0": "24",
                                    "1": "Product QOGNU",
                                    "2": "10",
                                    "3": "4,5000",
                                    "4": "1"
                                },
                                {
                                    "0": "34",
                                    "1": "Product SWNJY",
                                    "2": "16",
                                    "3": "14,0000",
                                    "4": "0"
                                },
                                {
                                    "0": "35",
                                    "1": "Product NEVTJ",
                                    "2": "16",
                                    "3": "18,0000",
                                    "4": "0"
                                },
                                {
                                    "0": "38",
                                    "1": "Product QDOMO",
                                    "2": "18",
                                    "3": "263,5000",
                                    "4": "0"
                                },
                                {
                                    "0": "39",
                                    "1": "Product LSOFL",
                                    "2": "18",
                                    "3": "18,0000",
                                    "4": "0"
                                },
                                {
                                    "0": "43",
                                    "1": "Product ZZZHR",
                                    "2": "20",
                                    "3": "46,0000",
                                    "4": "0"
                                },
                                {
                                    "0": "67",
                                    "1": "Product XLXQF",
                                    "2": "16",
                                    "3": "14,0000",
                                    "4": "0"
                                },
                                {
                                    "0": "70",
                                    "1": "Product TOONT",
                                    "2": "7",
                                    "3": "15,0000",
                                    "4": "0"
                                },
                                {
                                    "0": "75",
                                    "1": "Product BWRLG",
                                    "2": "12",
                                    "3": "7,7500",
                                    "4": "0"
                                },
                                {
                                    "0": "76",
                                    "1": "Product JYGFE",
                                    "2": "23",
                                    "3": "18,0000",
                                    "4": "0"
                                }
                            ]
                        },
                        "text/html": "<table><tr><th>productid</th><th>productname</th><th>supplierid</th><th>unitprice</th><th>discontinued</th></tr><tr><td>1</td><td>Product HHYDP</td><td>1</td><td>18,0000</td><td>0</td></tr><tr><td>2</td><td>Product RECZE</td><td>1</td><td>19,0000</td><td>0</td></tr><tr><td>24</td><td>Product QOGNU</td><td>10</td><td>4,5000</td><td>1</td></tr><tr><td>34</td><td>Product SWNJY</td><td>16</td><td>14,0000</td><td>0</td></tr><tr><td>35</td><td>Product NEVTJ</td><td>16</td><td>18,0000</td><td>0</td></tr><tr><td>38</td><td>Product QDOMO</td><td>18</td><td>263,5000</td><td>0</td></tr><tr><td>39</td><td>Product LSOFL</td><td>18</td><td>18,0000</td><td>0</td></tr><tr><td>43</td><td>Product ZZZHR</td><td>20</td><td>46,0000</td><td>0</td></tr><tr><td>67</td><td>Product XLXQF</td><td>16</td><td>14,0000</td><td>0</td></tr><tr><td>70</td><td>Product TOONT</td><td>7</td><td>15,0000</td><td>0</td></tr><tr><td>75</td><td>Product BWRLG</td><td>12</td><td>7,7500</td><td>0</td></tr><tr><td>76</td><td>Product JYGFE</td><td>23</td><td>18,0000</td><td>0</td></tr></table>"
                    },
                    "metadata": {}
                }
            ],
            "execution_count": 9
        },
        {
            "cell_type": "markdown",
            "source": "1.3. Modify the T-SQL code to include the following supplied T-SQL statement. Put this statement before\r\nthe SELECT clause:",
            "metadata": {}
        },
        {
            "cell_type": "code",
            "source": "CREATE VIEW Production.ProductsBeverages AS select productid , productname , supplierid , unitprice , discontinued from Production.Products",
            "metadata": {},
            "outputs": [
                {
                    "output_type": "display_data",
                    "data": {
                        "text/html": "Commands completed successfully."
                    },
                    "metadata": {}
                },
                {
                    "output_type": "display_data",
                    "data": {
                        "text/html": "Total execution time: 00:00:00.177"
                    },
                    "metadata": {}
                }
            ],
            "execution_count": 10
        },
        {
            "cell_type": "markdown",
            "source": "1.4. Write a SELECT statement to return the productid and productname columns from the\r\nProduction.ProductsBeverages view. Filter the results to include only products where supplierid equals\r\n1",
            "metadata": {}
        },
        {
            "cell_type": "code",
            "source": "select productid  , productname  from Production.ProductsBeverages where supplierid  = 1",
            "metadata": {},
            "outputs": [
                {
                    "output_type": "display_data",
                    "data": {
                        "text/html": "(3 rows affected)"
                    },
                    "metadata": {}
                },
                {
                    "output_type": "display_data",
                    "data": {
                        "text/html": "Total execution time: 00:00:00.005"
                    },
                    "metadata": {}
                },
                {
                    "output_type": "execute_result",
                    "execution_count": 28,
                    "data": {
                        "application/vnd.dataresource+json": {
                            "schema": {
                                "fields": [
                                    {
                                        "name": "productid"
                                    },
                                    {
                                        "name": "productname"
                                    }
                                ]
                            },
                            "data": [
                                {
                                    "0": "1",
                                    "1": "Product HHYDP"
                                },
                                {
                                    "0": "2",
                                    "1": "Product RECZE"
                                },
                                {
                                    "0": "3",
                                    "1": "Product IMEHJ"
                                }
                            ]
                        },
                        "text/html": "<table><tr><th>productid</th><th>productname</th></tr><tr><td>1</td><td>Product HHYDP</td></tr><tr><td>2</td><td>Product RECZE</td></tr><tr><td>3</td><td>Product IMEHJ</td></tr></table>"
                    },
                    "metadata": {}
                }
            ],
            "execution_count": 28
        },
        {
            "cell_type": "markdown",
            "source": "1.5. The IT department has written a T-SQL statement that adds an additional calculated column to the",
            "metadata": {}
        },
        {
            "cell_type": "code",
            "source": "ALTER VIEW Production.ProductsBeverages AS\r\nSELECT\r\nproductid, productname, supplierid, unitprice, discontinued,\r\nCASE WHEN unitprice > 100. THEN N'high' ELSE N'normal' END as pricetype\r\nFROM Production.Products\r\nWHERE categoryid = 1;",
            "metadata": {},
            "outputs": [
                {
                    "output_type": "display_data",
                    "data": {
                        "text/html": "Commands completed successfully."
                    },
                    "metadata": {}
                },
                {
                    "output_type": "display_data",
                    "data": {
                        "text/html": "Total execution time: 00:00:00.397"
                    },
                    "metadata": {}
                }
            ],
            "execution_count": 7
        },
        {
            "cell_type": "markdown",
            "source": "1.6. Apply the changes needed to get the T-SQL statement to execute properly",
            "metadata": {}
        },
        {
            "cell_type": "code",
            "source": "ALTER VIEW Production.ProductsBeverages AS\r\nSELECT \r\nproductid, productname, supplierid, unitprice, discontinued,\r\nCASE WHEN unitprice > 100. THEN N'high' ELSE N'normal' END AS pricetype\r\nFROM Production.Products\r\nWHERE categoryid = 1;\r\nGO",
            "metadata": {},
            "outputs": [
                {
                    "output_type": "display_data",
                    "data": {
                        "text/html": "Commands completed successfully."
                    },
                    "metadata": {}
                },
                {
                    "output_type": "display_data",
                    "data": {
                        "text/html": "Total execution time: 00:00:00.344"
                    },
                    "metadata": {}
                }
            ],
            "execution_count": 10
        },
        {
            "cell_type": "markdown",
            "source": "2. Utilizando utilizando Tablas Derivadas",
            "metadata": {}
        },
        {
            "cell_type": "markdown",
            "source": "2.1. Write a SELECT statement against a derived table and retrieve the productid and productname\r\ncolumns. Filter the results to include only the rows in which the pricetype column value is equal to\r\nhigh. Use the SELECT statement from exercise 1, task 4, as the inner query that defines the derived\r\ntable. Do not forget to use an alias for the derived table. (You can use the alias “p”.)",
            "metadata": {}
        },
        {
            "cell_type": "code",
            "source": "select \r\np.productid , p.productname\r\nFROM\r\n(\r\n    SELECT  \r\n        productid , productname,supplierid , unitprice, discontinued,\r\n        CASE WHEN unitprice > 100. THEN N'high' ELSE N'normal' END as pricetype\r\n        FROM Production.Products\r\n        WHERE categoryid = 1\r\n)\r\nas p \r\nwhere p.pricetype = N'high';",
            "metadata": {},
            "outputs": [
                {
                    "output_type": "display_data",
                    "data": {
                        "text/html": "(1 row affected)"
                    },
                    "metadata": {}
                },
                {
                    "output_type": "display_data",
                    "data": {
                        "text/html": "Total execution time: 00:00:00.463"
                    },
                    "metadata": {}
                },
                {
                    "output_type": "execute_result",
                    "metadata": {},
                    "execution_count": 2,
                    "data": {
                        "application/vnd.dataresource+json": {
                            "schema": {
                                "fields": [
                                    {
                                        "name": "productid"
                                    },
                                    {
                                        "name": "productname"
                                    }
                                ]
                            },
                            "data": [
                                {
                                    "0": "38",
                                    "1": "Product QDOMO"
                                }
                            ]
                        },
                        "text/html": "<table><tr><th>productid</th><th>productname</th></tr><tr><td>38</td><td>Product QDOMO</td></tr></table>"
                    }
                }
            ],
            "execution_count": 2
        },
        {
            "cell_type": "markdown",
            "source": "2.2. Write a SELECT statement to retrieve the custid column and two calculated columns:\r\ntotalsalesamount, which returns the total sales amount per customer, and avgsalesamount, which\r\nreturns the average sales amount of orders per customer. To correctly calculate the average sales\r\namount of orders per customer, you should first calculate the total sales amount per order. You can\r\ndo so by defining a derived table based on a query that joins the Sales.Orders and Sales.OrderDetails\r\ntables. You can use the custid and orderid columns from the Sales.Orders table and the qty and\r\nunitprice columns from the Sales.OrderDetails table",
            "metadata": {}
        },
        {
            "cell_type": "code",
            "source": "select \r\n    c.custid,\r\n    SUM(c.totalsalesamountperorder) as totalsalesamount,\r\n    AVG(c.totalsalesamountperorder) as avgsalesamount\r\n    from\r\n    (\r\n        select\r\n        o.custid , o.orderid , SUM (d.unitprice * d.qty) as totalsalesamountperorder\r\n        from Sales.Orders as o\r\n        inner join Sales.OrderDetails d ON d.orderid = d.orderid\r\n        group by o.custid , o.orderid\r\n    ) as c\r\n    group by c.custid;",
            "metadata": {},
            "outputs": [
                {
                    "output_type": "display_data",
                    "data": {
                        "text/html": "(89 rows affected)"
                    },
                    "metadata": {}
                },
                {
                    "output_type": "display_data",
                    "data": {
                        "text/html": "Total execution time: 00:00:01.579"
                    },
                    "metadata": {}
                },
                {
                    "output_type": "execute_result",
                    "metadata": {},
                    "execution_count": 5,
                    "data": {
                        "application/vnd.dataresource+json": {
                            "schema": {
                                "fields": [
                                    {
                                        "name": "custid"
                                    },
                                    {
                                        "name": "totalsalesamount"
                                    },
                                    {
                                        "name": "avgsalesamount"
                                    }
                                ]
                            },
                            "data": [
                                {
                                    "0": "1",
                                    "1": "8126751,5400",
                                    "2": "1354458,5900"
                                },
                                {
                                    "0": "2",
                                    "1": "5417834,3600",
                                    "2": "1354458,5900"
                                },
                                {
                                    "0": "3",
                                    "1": "9481210,1300",
                                    "2": "1354458,5900"
                                },
                                {
                                    "0": "4",
                                    "1": "17607961,6700",
                                    "2": "1354458,5900"
                                },
                                {
                                    "0": "5",
                                    "1": "24380254,6200",
                                    "2": "1354458,5900"
                                },
                                {
                                    "0": "6",
                                    "1": "9481210,1300",
                                    "2": "1354458,5900"
                                },
                                {
                                    "0": "7",
                                    "1": "14899044,4900",
                                    "2": "1354458,5900"
                                },
                                {
                                    "0": "8",
                                    "1": "4063375,7700",
                                    "2": "1354458,5900"
                                },
                                {
                                    "0": "9",
                                    "1": "23025796,0300",
                                    "2": "1354458,5900"
                                },
                                {
                                    "0": "10",
                                    "1": "18962420,2600",
                                    "2": "1354458,5900"
                                },
                                {
                                    "0": "11",
                                    "1": "13544585,9000",
                                    "2": "1354458,5900"
                                },
                                {
                                    "0": "12",
                                    "1": "8126751,5400",
                                    "2": "1354458,5900"
                                },
                                {
                                    "0": "13",
                                    "1": "1354458,5900",
                                    "2": "1354458,5900"
                                },
                                {
                                    "0": "14",
                                    "1": "10835668,7200",
                                    "2": "1354458,5900"
                                },
                                {
                                    "0": "15",
                                    "1": "6772292,9500",
                                    "2": "1354458,5900"
                                },
                                {
                                    "0": "16",
                                    "1": "4063375,7700",
                                    "2": "1354458,5900"
                                },
                                {
                                    "0": "17",
                                    "1": "8126751,5400",
                                    "2": "1354458,5900"
                                },
                                {
                                    "0": "18",
                                    "1": "5417834,3600",
                                    "2": "1354458,5900"
                                },
                                {
                                    "0": "19",
                                    "1": "10835668,7200",
                                    "2": "1354458,5900"
                                },
                                {
                                    "0": "20",
                                    "1": "40633757,7000",
                                    "2": "1354458,5900"
                                },
                                {
                                    "0": "21",
                                    "1": "9481210,1300",
                                    "2": "1354458,5900"
                                },
                                {
                                    "0": "23",
                                    "1": "6772292,9500",
                                    "2": "1354458,5900"
                                },
                                {
                                    "0": "24",
                                    "1": "25734713,2100",
                                    "2": "1354458,5900"
                                },
                                {
                                    "0": "25",
                                    "1": "20316878,8500",
                                    "2": "1354458,5900"
                                },
                                {
                                    "0": "26",
                                    "1": "4063375,7700",
                                    "2": "1354458,5900"
                                },
                                {
                                    "0": "27",
                                    "1": "8126751,5400",
                                    "2": "1354458,5900"
                                },
                                {
                                    "0": "28",
                                    "1": "10835668,7200",
                                    "2": "1354458,5900"
                                },
                                {
                                    "0": "29",
                                    "1": "6772292,9500",
                                    "2": "1354458,5900"
                                },
                                {
                                    "0": "30",
                                    "1": "13544585,9000",
                                    "2": "1354458,5900"
                                },
                                {
                                    "0": "31",
                                    "1": "12190127,3100",
                                    "2": "1354458,5900"
                                },
                                {
                                    "0": "32",
                                    "1": "14899044,4900",
                                    "2": "1354458,5900"
                                },
                                {
                                    "0": "33",
                                    "1": "2708917,1800",
                                    "2": "1354458,5900"
                                },
                                {
                                    "0": "34",
                                    "1": "18962420,2600",
                                    "2": "1354458,5900"
                                },
                                {
                                    "0": "35",
                                    "1": "24380254,6200",
                                    "2": "1354458,5900"
                                },
                                {
                                    "0": "36",
                                    "1": "6772292,9500",
                                    "2": "1354458,5900"
                                },
                                {
                                    "0": "37",
                                    "1": "25734713,2100",
                                    "2": "1354458,5900"
                                },
                                {
                                    "0": "38",
                                    "1": "13544585,9000",
                                    "2": "1354458,5900"
                                },
                                {
                                    "0": "39",
                                    "1": "18962420,2600",
                                    "2": "1354458,5900"
                                },
                                {
                                    "0": "40",
                                    "1": "5417834,3600",
                                    "2": "1354458,5900"
                                },
                                {
                                    "0": "41",
                                    "1": "18962420,2600",
                                    "2": "1354458,5900"
                                },
                                {
                                    "0": "42",
                                    "1": "4063375,7700",
                                    "2": "1354458,5900"
                                },
                                {
                                    "0": "43",
                                    "1": "2708917,1800",
                                    "2": "1354458,5900"
                                },
                                {
                                    "0": "44",
                                    "1": "20316878,8500",
                                    "2": "1354458,5900"
                                },
                                {
                                    "0": "45",
                                    "1": "5417834,3600",
                                    "2": "1354458,5900"
                                },
                                {
                                    "0": "46",
                                    "1": "18962420,2600",
                                    "2": "1354458,5900"
                                },
                                {
                                    "0": "47",
                                    "1": "16253503,0800",
                                    "2": "1354458,5900"
                                },
                                {
                                    "0": "48",
                                    "1": "10835668,7200",
                                    "2": "1354458,5900"
                                },
                                {
                                    "0": "49",
                                    "1": "13544585,9000",
                                    "2": "1354458,5900"
                                },
                                {
                                    "0": "50",
                                    "1": "9481210,1300",
                                    "2": "1354458,5900"
                                },
                                {
                                    "0": "51",
                                    "1": "17607961,6700",
                                    "2": "1354458,5900"
                                },
                                {
                                    "0": "52",
                                    "1": "6772292,9500",
                                    "2": "1354458,5900"
                                },
                                {
                                    "0": "53",
                                    "1": "4063375,7700",
                                    "2": "1354458,5900"
                                },
                                {
                                    "0": "54",
                                    "1": "6772292,9500",
                                    "2": "1354458,5900"
                                },
                                {
                                    "0": "55",
                                    "1": "13544585,9000",
                                    "2": "1354458,5900"
                                },
                                {
                                    "0": "56",
                                    "1": "13544585,9000",
                                    "2": "1354458,5900"
                                },
                                {
                                    "0": "58",
                                    "1": "8126751,5400",
                                    "2": "1354458,5900"
                                },
                                {
                                    "0": "59",
                                    "1": "13544585,9000",
                                    "2": "1354458,5900"
                                },
                                {
                                    "0": "60",
                                    "1": "6772292,9500",
                                    "2": "1354458,5900"
                                },
                                {
                                    "0": "61",
                                    "1": "12190127,3100",
                                    "2": "1354458,5900"
                                },
                                {
                                    "0": "62",
                                    "1": "17607961,6700",
                                    "2": "1354458,5900"
                                },
                                {
                                    "0": "63",
                                    "1": "37924840,5200",
                                    "2": "1354458,5900"
                                },
                                {
                                    "0": "64",
                                    "1": "6772292,9500",
                                    "2": "1354458,5900"
                                },
                                {
                                    "0": "65",
                                    "1": "24380254,6200",
                                    "2": "1354458,5900"
                                },
                                {
                                    "0": "66",
                                    "1": "16253503,0800",
                                    "2": "1354458,5900"
                                },
                                {
                                    "0": "67",
                                    "1": "14899044,4900",
                                    "2": "1354458,5900"
                                },
                                {
                                    "0": "68",
                                    "1": "13544585,9000",
                                    "2": "1354458,5900"
                                },
                                {
                                    "0": "69",
                                    "1": "6772292,9500",
                                    "2": "1354458,5900"
                                },
                                {
                                    "0": "70",
                                    "1": "8126751,5400",
                                    "2": "1354458,5900"
                                },
                                {
                                    "0": "71",
                                    "1": "41988216,2900",
                                    "2": "1354458,5900"
                                },
                                {
                                    "0": "72",
                                    "1": "12190127,3100",
                                    "2": "1354458,5900"
                                },
                                {
                                    "0": "73",
                                    "1": "9481210,1300",
                                    "2": "1354458,5900"
                                },
                                {
                                    "0": "74",
                                    "1": "5417834,3600",
                                    "2": "1354458,5900"
                                },
                                {
                                    "0": "75",
                                    "1": "12190127,3100",
                                    "2": "1354458,5900"
                                },
                                {
                                    "0": "76",
                                    "1": "16253503,0800",
                                    "2": "1354458,5900"
                                },
                                {
                                    "0": "77",
                                    "1": "5417834,3600",
                                    "2": "1354458,5900"
                                },
                                {
                                    "0": "78",
                                    "1": "4063375,7700",
                                    "2": "1354458,5900"
                                },
                                {
                                    "0": "79",
                                    "1": "8126751,5400",
                                    "2": "1354458,5900"
                                },
                                {
                                    "0": "80",
                                    "1": "13544585,9000",
                                    "2": "1354458,5900"
                                },
                                {
                                    "0": "81",
                                    "1": "8126751,5400",
                                    "2": "1354458,5900"
                                },
                                {
                                    "0": "82",
                                    "1": "4063375,7700",
                                    "2": "1354458,5900"
                                },
                                {
                                    "0": "83",
                                    "1": "14899044,4900",
                                    "2": "1354458,5900"
                                },
                                {
                                    "0": "84",
                                    "1": "13544585,9000",
                                    "2": "1354458,5900"
                                },
                                {
                                    "0": "85",
                                    "1": "6772292,9500",
                                    "2": "1354458,5900"
                                },
                                {
                                    "0": "86",
                                    "1": "13544585,9000",
                                    "2": "1354458,5900"
                                },
                                {
                                    "0": "87",
                                    "1": "20316878,8500",
                                    "2": "1354458,5900"
                                },
                                {
                                    "0": "88",
                                    "1": "12190127,3100",
                                    "2": "1354458,5900"
                                },
                                {
                                    "0": "89",
                                    "1": "18962420,2600",
                                    "2": "1354458,5900"
                                },
                                {
                                    "0": "90",
                                    "1": "9481210,1300",
                                    "2": "1354458,5900"
                                },
                                {
                                    "0": "91",
                                    "1": "9481210,1300",
                                    "2": "1354458,5900"
                                }
                            ]
                        },
                        "text/html": "<table><tr><th>custid</th><th>totalsalesamount</th><th>avgsalesamount</th></tr><tr><td>1</td><td>8126751,5400</td><td>1354458,5900</td></tr><tr><td>2</td><td>5417834,3600</td><td>1354458,5900</td></tr><tr><td>3</td><td>9481210,1300</td><td>1354458,5900</td></tr><tr><td>4</td><td>17607961,6700</td><td>1354458,5900</td></tr><tr><td>5</td><td>24380254,6200</td><td>1354458,5900</td></tr><tr><td>6</td><td>9481210,1300</td><td>1354458,5900</td></tr><tr><td>7</td><td>14899044,4900</td><td>1354458,5900</td></tr><tr><td>8</td><td>4063375,7700</td><td>1354458,5900</td></tr><tr><td>9</td><td>23025796,0300</td><td>1354458,5900</td></tr><tr><td>10</td><td>18962420,2600</td><td>1354458,5900</td></tr><tr><td>11</td><td>13544585,9000</td><td>1354458,5900</td></tr><tr><td>12</td><td>8126751,5400</td><td>1354458,5900</td></tr><tr><td>13</td><td>1354458,5900</td><td>1354458,5900</td></tr><tr><td>14</td><td>10835668,7200</td><td>1354458,5900</td></tr><tr><td>15</td><td>6772292,9500</td><td>1354458,5900</td></tr><tr><td>16</td><td>4063375,7700</td><td>1354458,5900</td></tr><tr><td>17</td><td>8126751,5400</td><td>1354458,5900</td></tr><tr><td>18</td><td>5417834,3600</td><td>1354458,5900</td></tr><tr><td>19</td><td>10835668,7200</td><td>1354458,5900</td></tr><tr><td>20</td><td>40633757,7000</td><td>1354458,5900</td></tr><tr><td>21</td><td>9481210,1300</td><td>1354458,5900</td></tr><tr><td>23</td><td>6772292,9500</td><td>1354458,5900</td></tr><tr><td>24</td><td>25734713,2100</td><td>1354458,5900</td></tr><tr><td>25</td><td>20316878,8500</td><td>1354458,5900</td></tr><tr><td>26</td><td>4063375,7700</td><td>1354458,5900</td></tr><tr><td>27</td><td>8126751,5400</td><td>1354458,5900</td></tr><tr><td>28</td><td>10835668,7200</td><td>1354458,5900</td></tr><tr><td>29</td><td>6772292,9500</td><td>1354458,5900</td></tr><tr><td>30</td><td>13544585,9000</td><td>1354458,5900</td></tr><tr><td>31</td><td>12190127,3100</td><td>1354458,5900</td></tr><tr><td>32</td><td>14899044,4900</td><td>1354458,5900</td></tr><tr><td>33</td><td>2708917,1800</td><td>1354458,5900</td></tr><tr><td>34</td><td>18962420,2600</td><td>1354458,5900</td></tr><tr><td>35</td><td>24380254,6200</td><td>1354458,5900</td></tr><tr><td>36</td><td>6772292,9500</td><td>1354458,5900</td></tr><tr><td>37</td><td>25734713,2100</td><td>1354458,5900</td></tr><tr><td>38</td><td>13544585,9000</td><td>1354458,5900</td></tr><tr><td>39</td><td>18962420,2600</td><td>1354458,5900</td></tr><tr><td>40</td><td>5417834,3600</td><td>1354458,5900</td></tr><tr><td>41</td><td>18962420,2600</td><td>1354458,5900</td></tr><tr><td>42</td><td>4063375,7700</td><td>1354458,5900</td></tr><tr><td>43</td><td>2708917,1800</td><td>1354458,5900</td></tr><tr><td>44</td><td>20316878,8500</td><td>1354458,5900</td></tr><tr><td>45</td><td>5417834,3600</td><td>1354458,5900</td></tr><tr><td>46</td><td>18962420,2600</td><td>1354458,5900</td></tr><tr><td>47</td><td>16253503,0800</td><td>1354458,5900</td></tr><tr><td>48</td><td>10835668,7200</td><td>1354458,5900</td></tr><tr><td>49</td><td>13544585,9000</td><td>1354458,5900</td></tr><tr><td>50</td><td>9481210,1300</td><td>1354458,5900</td></tr><tr><td>51</td><td>17607961,6700</td><td>1354458,5900</td></tr><tr><td>52</td><td>6772292,9500</td><td>1354458,5900</td></tr><tr><td>53</td><td>4063375,7700</td><td>1354458,5900</td></tr><tr><td>54</td><td>6772292,9500</td><td>1354458,5900</td></tr><tr><td>55</td><td>13544585,9000</td><td>1354458,5900</td></tr><tr><td>56</td><td>13544585,9000</td><td>1354458,5900</td></tr><tr><td>58</td><td>8126751,5400</td><td>1354458,5900</td></tr><tr><td>59</td><td>13544585,9000</td><td>1354458,5900</td></tr><tr><td>60</td><td>6772292,9500</td><td>1354458,5900</td></tr><tr><td>61</td><td>12190127,3100</td><td>1354458,5900</td></tr><tr><td>62</td><td>17607961,6700</td><td>1354458,5900</td></tr><tr><td>63</td><td>37924840,5200</td><td>1354458,5900</td></tr><tr><td>64</td><td>6772292,9500</td><td>1354458,5900</td></tr><tr><td>65</td><td>24380254,6200</td><td>1354458,5900</td></tr><tr><td>66</td><td>16253503,0800</td><td>1354458,5900</td></tr><tr><td>67</td><td>14899044,4900</td><td>1354458,5900</td></tr><tr><td>68</td><td>13544585,9000</td><td>1354458,5900</td></tr><tr><td>69</td><td>6772292,9500</td><td>1354458,5900</td></tr><tr><td>70</td><td>8126751,5400</td><td>1354458,5900</td></tr><tr><td>71</td><td>41988216,2900</td><td>1354458,5900</td></tr><tr><td>72</td><td>12190127,3100</td><td>1354458,5900</td></tr><tr><td>73</td><td>9481210,1300</td><td>1354458,5900</td></tr><tr><td>74</td><td>5417834,3600</td><td>1354458,5900</td></tr><tr><td>75</td><td>12190127,3100</td><td>1354458,5900</td></tr><tr><td>76</td><td>16253503,0800</td><td>1354458,5900</td></tr><tr><td>77</td><td>5417834,3600</td><td>1354458,5900</td></tr><tr><td>78</td><td>4063375,7700</td><td>1354458,5900</td></tr><tr><td>79</td><td>8126751,5400</td><td>1354458,5900</td></tr><tr><td>80</td><td>13544585,9000</td><td>1354458,5900</td></tr><tr><td>81</td><td>8126751,5400</td><td>1354458,5900</td></tr><tr><td>82</td><td>4063375,7700</td><td>1354458,5900</td></tr><tr><td>83</td><td>14899044,4900</td><td>1354458,5900</td></tr><tr><td>84</td><td>13544585,9000</td><td>1354458,5900</td></tr><tr><td>85</td><td>6772292,9500</td><td>1354458,5900</td></tr><tr><td>86</td><td>13544585,9000</td><td>1354458,5900</td></tr><tr><td>87</td><td>20316878,8500</td><td>1354458,5900</td></tr><tr><td>88</td><td>12190127,3100</td><td>1354458,5900</td></tr><tr><td>89</td><td>18962420,2600</td><td>1354458,5900</td></tr><tr><td>90</td><td>9481210,1300</td><td>1354458,5900</td></tr><tr><td>91</td><td>9481210,1300</td><td>1354458,5900</td></tr></table>"
                    }
                }
            ],
            "execution_count": 5
        },
        {
            "cell_type": "markdown",
            "source": "3. Utilizando Expresions Comunes de Tabla",
            "metadata": {}
        },
        {
            "cell_type": "markdown",
            "source": "3.1. Write a SELECT statement like the one in exercise 2.1, but use a CTE instead of a derived table.\r\nUse inline column aliasing in the CTE query and name the CTE ProductBeverages.",
            "metadata": {}
        },
        {
            "cell_type": "code",
            "source": "with ProductsBeverages as \r\n(\r\n    SELECT  \r\n        productid , productname,supplierid , unitprice, discontinued,\r\n        CASE WHEN unitprice > 100. THEN N'high' ELSE N'normal' END as pricetype\r\n        FROM Production.Products\r\n        WHERE categoryid = 1\r\n)\r\nselect \r\nproductid , productname\r\nfrom ProductsBeverages\r\nwhere pricetype = N'high';",
            "metadata": {},
            "outputs": [
                {
                    "output_type": "display_data",
                    "data": {
                        "text/html": "(1 row affected)"
                    },
                    "metadata": {}
                },
                {
                    "output_type": "display_data",
                    "data": {
                        "text/html": "Total execution time: 00:00:00.176"
                    },
                    "metadata": {}
                },
                {
                    "output_type": "execute_result",
                    "metadata": {},
                    "execution_count": 6,
                    "data": {
                        "application/vnd.dataresource+json": {
                            "schema": {
                                "fields": [
                                    {
                                        "name": "productid"
                                    },
                                    {
                                        "name": "productname"
                                    }
                                ]
                            },
                            "data": [
                                {
                                    "0": "38",
                                    "1": "Product QDOMO"
                                }
                            ]
                        },
                        "text/html": "<table><tr><th>productid</th><th>productname</th></tr><tr><td>38</td><td>Product QDOMO</td></tr></table>"
                    }
                }
            ],
            "execution_count": 6
        },
        {
            "cell_type": "markdown",
            "source": "3.2. Write a SELECT statement against Sales.OrderValues to retrieve each customer’s ID and total sales\r\namount for the year 2008. Define a CTE named c2008 based on this query, using the external aliasing\r\nform to name the CTE columns custid and salesamt2008. Join the Sales.Customers table and the\r\nc2008 CTE, returning the custid and contactname columns from the Sales.Customers table and the\r\nsalesamt2008 column from the c2008 CTE.",
            "metadata": {}
        },
        {
            "cell_type": "code",
            "source": "with c2008 (custid , salesamt2008) as \r\n(\r\n    select \r\n        custid , SUM (val)\r\n        from Sales.OrderValues\r\n        where YEAR(orderdate) = 2008\r\n        group by custid\r\n)\r\nselect \r\n    c.custid , c.contactname , c2008.salesamt2008\r\n    from Sales.Customers as c \r\n    left outer join c2008 on c.custid = c2008.custid;",
            "metadata": {},
            "outputs": [
                {
                    "output_type": "display_data",
                    "data": {
                        "text/html": "(91 rows affected)"
                    },
                    "metadata": {}
                },
                {
                    "output_type": "display_data",
                    "data": {
                        "text/html": "Total execution time: 00:00:00.374"
                    },
                    "metadata": {}
                },
                {
                    "output_type": "execute_result",
                    "metadata": {},
                    "execution_count": 9,
                    "data": {
                        "application/vnd.dataresource+json": {
                            "schema": {
                                "fields": [
                                    {
                                        "name": "custid"
                                    },
                                    {
                                        "name": "contactname"
                                    },
                                    {
                                        "name": "salesamt2008"
                                    }
                                ]
                            },
                            "data": [
                                {
                                    "0": "1",
                                    "1": "Allen, Michael",
                                    "2": "2250,50"
                                },
                                {
                                    "0": "2",
                                    "1": "Hassall, Mark",
                                    "2": "514,40"
                                },
                                {
                                    "0": "3",
                                    "1": "Peoples, John",
                                    "2": "660,00"
                                },
                                {
                                    "0": "4",
                                    "1": "Arndt, Torsten",
                                    "2": "5604,75"
                                },
                                {
                                    "0": "5",
                                    "1": "Higginbotham, Tom",
                                    "2": "6754,16"
                                },
                                {
                                    "0": "6",
                                    "1": "Poland, Carole",
                                    "2": "2160,00"
                                },
                                {
                                    "0": "7",
                                    "1": "Bansal, Dushyant",
                                    "2": "730,00"
                                },
                                {
                                    "0": "8",
                                    "1": "Ilyina, Julia",
                                    "2": "224,00"
                                },
                                {
                                    "0": "9",
                                    "1": "Raghav, Amritansh",
                                    "2": "6680,61"
                                },
                                {
                                    "0": "10",
                                    "1": "Bassols, Pilar Colome",
                                    "2": "11338,56"
                                },
                                {
                                    "0": "11",
                                    "1": "Jaffe, David",
                                    "2": "2431,00"
                                },
                                {
                                    "0": "12",
                                    "1": "Ray, Mike",
                                    "2": "1576,80"
                                },
                                {
                                    "0": "13",
                                    "1": "Benito, Almudena",
                                    "2": "NULL"
                                },
                                {
                                    "0": "14",
                                    "1": "Jelitto, Jacek",
                                    "2": "4158,26"
                                },
                                {
                                    "0": "15",
                                    "1": "Richardson, Shawn",
                                    "2": "513,75"
                                },
                                {
                                    "0": "16",
                                    "1": "Birkby, Dana",
                                    "2": "931,50"
                                },
                                {
                                    "0": "17",
                                    "1": "Jones, TiAnna",
                                    "2": "2809,61"
                                },
                                {
                                    "0": "18",
                                    "1": "Rizaldy, Arif",
                                    "2": "860,10"
                                },
                                {
                                    "0": "19",
                                    "1": "Boseman, Randall",
                                    "2": "9296,69"
                                },
                                {
                                    "0": "20",
                                    "1": "Kane, John",
                                    "2": "41210,65"
                                },
                                {
                                    "0": "21",
                                    "1": "Russo, Giuseppe",
                                    "2": "NULL"
                                },
                                {
                                    "0": "22",
                                    "1": "Bueno, Janaina Burdan, Neville",
                                    "2": "NULL"
                                },
                                {
                                    "0": "23",
                                    "1": "Khanna, Karan",
                                    "2": "NULL"
                                },
                                {
                                    "0": "24",
                                    "1": "San Juan, Patricia",
                                    "2": "13644,07"
                                },
                                {
                                    "0": "25",
                                    "1": "Carlson, Jason",
                                    "2": "5078,74"
                                },
                                {
                                    "0": "26",
                                    "1": "Koch, Paul",
                                    "2": "2252,06"
                                },
                                {
                                    "0": "27",
                                    "1": "Schmöllerl, Martin",
                                    "2": "1296,00"
                                },
                                {
                                    "0": "28",
                                    "1": "Cavaglieri, Giorgio",
                                    "2": "57,80"
                                },
                                {
                                    "0": "29",
                                    "1": "Kolesnikova, Katerina",
                                    "2": "207,50"
                                },
                                {
                                    "0": "30",
                                    "1": "Shabalin, Rostislav",
                                    "2": "6870,21"
                                },
                                {
                                    "0": "31",
                                    "1": "Cheng, Yao-Qiang",
                                    "2": "405,35"
                                },
                                {
                                    "0": "32",
                                    "1": "Krishnan, Venky",
                                    "2": "9942,14"
                                },
                                {
                                    "0": "33",
                                    "1": "Sigurdarson, Hallur ",
                                    "2": "NULL"
                                },
                                {
                                    "0": "34",
                                    "1": "Cohen, Shy",
                                    "2": "23821,20"
                                },
                                {
                                    "0": "35",
                                    "1": "Langohr, Kris",
                                    "2": "6043,20"
                                },
                                {
                                    "0": "36",
                                    "1": "Smith, Denise",
                                    "2": "NULL"
                                },
                                {
                                    "0": "37",
                                    "1": "Crăciun, Ovidiu V.",
                                    "2": "20402,12"
                                },
                                {
                                    "0": "38",
                                    "1": "Lee, Frank",
                                    "2": "2684,60"
                                },
                                {
                                    "0": "39",
                                    "1": "Song, Lolan",
                                    "2": "19582,78"
                                },
                                {
                                    "0": "40",
                                    "1": "De Oliveira, Jose",
                                    "2": "1992,05"
                                },
                                {
                                    "0": "41",
                                    "1": "Litton, Tim",
                                    "2": "1259,91"
                                },
                                {
                                    "0": "42",
                                    "1": "Steiner, Dominik",
                                    "2": "187,00"
                                },
                                {
                                    "0": "43",
                                    "1": "Deshpande, Anu",
                                    "2": "NULL"
                                },
                                {
                                    "0": "44",
                                    "1": "Louverdis, George",
                                    "2": "3079,91"
                                },
                                {
                                    "0": "45",
                                    "1": "Sunkammurali,  Krishna",
                                    "2": "1378,07"
                                },
                                {
                                    "0": "46",
                                    "1": "Dressler, Marlies",
                                    "2": "5507,32"
                                },
                                {
                                    "0": "47",
                                    "1": "Lupu, Cornel",
                                    "2": "9117,10"
                                },
                                {
                                    "0": "48",
                                    "1": "Szymczak, Radosław",
                                    "2": "1709,40"
                                },
                                {
                                    "0": "49",
                                    "1": "Duerr, Bernard",
                                    "2": "1580,50"
                                },
                                {
                                    "0": "50",
                                    "1": "Mace, Donald",
                                    "2": "4439,08"
                                },
                                {
                                    "0": "51",
                                    "1": "Taylor, Maurice",
                                    "2": "NULL"
                                },
                                {
                                    "0": "52",
                                    "1": "Dupont-Roc, Patrice",
                                    "2": "245,00"
                                },
                                {
                                    "0": "53",
                                    "1": "Mallit, Ken",
                                    "2": "45,00"
                                },
                                {
                                    "0": "54",
                                    "1": "Tiano, Mike",
                                    "2": "3031,00"
                                },
                                {
                                    "0": "55",
                                    "1": "Egelund-Muller, Anja",
                                    "2": "5026,29"
                                },
                                {
                                    "0": "56",
                                    "1": "Marinova, Nadejda",
                                    "2": "2737,28"
                                },
                                {
                                    "0": "57",
                                    "1": "Tollevsen, Bjørn",
                                    "2": "NULL"
                                },
                                {
                                    "0": "58",
                                    "1": "Fakhouri, Fadi",
                                    "2": "1496,00"
                                },
                                {
                                    "0": "59",
                                    "1": "Meston, Tosh",
                                    "2": "3790,00"
                                },
                                {
                                    "0": "60",
                                    "1": "Uppal, Sunil",
                                    "2": "2633,90"
                                },
                                {
                                    "0": "61",
                                    "1": "Florczyk, Krzysztof",
                                    "2": "1353,60"
                                },
                                {
                                    "0": "62",
                                    "1": "Misiec, Anna",
                                    "2": "6373,83"
                                },
                                {
                                    "0": "63",
                                    "1": "Veronesi, Giorgio",
                                    "2": "37217,32"
                                },
                                {
                                    "0": "64",
                                    "1": "Gaffney, Lawrie",
                                    "2": "1694,70"
                                },
                                {
                                    "0": "65",
                                    "1": "Moore, Michael",
                                    "2": "21238,27"
                                },
                                {
                                    "0": "66",
                                    "1": "Voss, Florian",
                                    "2": "3967,30"
                                },
                                {
                                    "0": "67",
                                    "1": "Garden, Euan",
                                    "2": "6998,53"
                                },
                                {
                                    "0": "68",
                                    "1": "Myrcha, Jacek",
                                    "2": "4988,86"
                                },
                                {
                                    "0": "69",
                                    "1": "Watters, Jason M.",
                                    "2": "726,89"
                                },
                                {
                                    "0": "70",
                                    "1": "Ginters, Kaspars",
                                    "2": "3976,75"
                                },
                                {
                                    "0": "71",
                                    "1": "Navarro, Tomás",
                                    "2": "36310,11"
                                },
                                {
                                    "0": "72",
                                    "1": "Welcker, Brian",
                                    "2": "1630,00"
                                },
                                {
                                    "0": "73",
                                    "1": "Gonzalez, Nuria",
                                    "2": "232,09"
                                },
                                {
                                    "0": "74",
                                    "1": "O’Brien, Dave",
                                    "2": "2371,00"
                                },
                                {
                                    "0": "75",
                                    "1": "Wojciechowska, Agnieszka",
                                    "2": "1117,00"
                                },
                                {
                                    "0": "76",
                                    "1": "Gulbis, Katrin",
                                    "2": "11644,60"
                                },
                                {
                                    "0": "77",
                                    "1": "Osorio, Cristian",
                                    "2": "69,60"
                                },
                                {
                                    "0": "78",
                                    "1": "Young, Robin",
                                    "2": "326,00"
                                },
                                {
                                    "0": "79",
                                    "1": "Wickham, Jim",
                                    "2": "910,40"
                                },
                                {
                                    "0": "80",
                                    "1": "Geschwandtner, Jens",
                                    "2": "1874,50"
                                },
                                {
                                    "0": "81",
                                    "1": "Nagel, Jean-Philippe",
                                    "2": "4234,26"
                                },
                                {
                                    "0": "82",
                                    "1": "Veninga, Tjeerd",
                                    "2": "237,90"
                                },
                                {
                                    "0": "83",
                                    "1": "Fonteneau, Karl",
                                    "2": "4284,00"
                                },
                                {
                                    "0": "84",
                                    "1": "Tuntisangaroon, Sittichai",
                                    "2": "2576,45"
                                },
                                {
                                    "0": "85",
                                    "1": "McLin, Nkenge",
                                    "2": "NULL"
                                },
                                {
                                    "0": "86",
                                    "1": "Syamala, Manoj",
                                    "2": "1485,80"
                                },
                                {
                                    "0": "87",
                                    "1": "Ludwig, Michael",
                                    "2": "270,00"
                                },
                                {
                                    "0": "88",
                                    "1": "Li, Yan",
                                    "2": "1135,25"
                                },
                                {
                                    "0": "89",
                                    "1": "Smith Jr., Ronaldo",
                                    "2": "15278,90"
                                },
                                {
                                    "0": "90",
                                    "1": "Larsson, Katarina",
                                    "2": "1987,00"
                                },
                                {
                                    "0": "91",
                                    "1": "Conn, Steve",
                                    "2": "1865,10"
                                }
                            ]
                        },
                        "text/html": "<table><tr><th>custid</th><th>contactname</th><th>salesamt2008</th></tr><tr><td>1</td><td>Allen, Michael</td><td>2250,50</td></tr><tr><td>2</td><td>Hassall, Mark</td><td>514,40</td></tr><tr><td>3</td><td>Peoples, John</td><td>660,00</td></tr><tr><td>4</td><td>Arndt, Torsten</td><td>5604,75</td></tr><tr><td>5</td><td>Higginbotham, Tom</td><td>6754,16</td></tr><tr><td>6</td><td>Poland, Carole</td><td>2160,00</td></tr><tr><td>7</td><td>Bansal, Dushyant</td><td>730,00</td></tr><tr><td>8</td><td>Ilyina, Julia</td><td>224,00</td></tr><tr><td>9</td><td>Raghav, Amritansh</td><td>6680,61</td></tr><tr><td>10</td><td>Bassols, Pilar Colome</td><td>11338,56</td></tr><tr><td>11</td><td>Jaffe, David</td><td>2431,00</td></tr><tr><td>12</td><td>Ray, Mike</td><td>1576,80</td></tr><tr><td>13</td><td>Benito, Almudena</td><td>NULL</td></tr><tr><td>14</td><td>Jelitto, Jacek</td><td>4158,26</td></tr><tr><td>15</td><td>Richardson, Shawn</td><td>513,75</td></tr><tr><td>16</td><td>Birkby, Dana</td><td>931,50</td></tr><tr><td>17</td><td>Jones, TiAnna</td><td>2809,61</td></tr><tr><td>18</td><td>Rizaldy, Arif</td><td>860,10</td></tr><tr><td>19</td><td>Boseman, Randall</td><td>9296,69</td></tr><tr><td>20</td><td>Kane, John</td><td>41210,65</td></tr><tr><td>21</td><td>Russo, Giuseppe</td><td>NULL</td></tr><tr><td>22</td><td>Bueno, Janaina Burdan, Neville</td><td>NULL</td></tr><tr><td>23</td><td>Khanna, Karan</td><td>NULL</td></tr><tr><td>24</td><td>San Juan, Patricia</td><td>13644,07</td></tr><tr><td>25</td><td>Carlson, Jason</td><td>5078,74</td></tr><tr><td>26</td><td>Koch, Paul</td><td>2252,06</td></tr><tr><td>27</td><td>Schmöllerl, Martin</td><td>1296,00</td></tr><tr><td>28</td><td>Cavaglieri, Giorgio</td><td>57,80</td></tr><tr><td>29</td><td>Kolesnikova, Katerina</td><td>207,50</td></tr><tr><td>30</td><td>Shabalin, Rostislav</td><td>6870,21</td></tr><tr><td>31</td><td>Cheng, Yao-Qiang</td><td>405,35</td></tr><tr><td>32</td><td>Krishnan, Venky</td><td>9942,14</td></tr><tr><td>33</td><td>Sigurdarson, Hallur </td><td>NULL</td></tr><tr><td>34</td><td>Cohen, Shy</td><td>23821,20</td></tr><tr><td>35</td><td>Langohr, Kris</td><td>6043,20</td></tr><tr><td>36</td><td>Smith, Denise</td><td>NULL</td></tr><tr><td>37</td><td>Crăciun, Ovidiu V.</td><td>20402,12</td></tr><tr><td>38</td><td>Lee, Frank</td><td>2684,60</td></tr><tr><td>39</td><td>Song, Lolan</td><td>19582,78</td></tr><tr><td>40</td><td>De Oliveira, Jose</td><td>1992,05</td></tr><tr><td>41</td><td>Litton, Tim</td><td>1259,91</td></tr><tr><td>42</td><td>Steiner, Dominik</td><td>187,00</td></tr><tr><td>43</td><td>Deshpande, Anu</td><td>NULL</td></tr><tr><td>44</td><td>Louverdis, George</td><td>3079,91</td></tr><tr><td>45</td><td>Sunkammurali,  Krishna</td><td>1378,07</td></tr><tr><td>46</td><td>Dressler, Marlies</td><td>5507,32</td></tr><tr><td>47</td><td>Lupu, Cornel</td><td>9117,10</td></tr><tr><td>48</td><td>Szymczak, Radosław</td><td>1709,40</td></tr><tr><td>49</td><td>Duerr, Bernard</td><td>1580,50</td></tr><tr><td>50</td><td>Mace, Donald</td><td>4439,08</td></tr><tr><td>51</td><td>Taylor, Maurice</td><td>NULL</td></tr><tr><td>52</td><td>Dupont-Roc, Patrice</td><td>245,00</td></tr><tr><td>53</td><td>Mallit, Ken</td><td>45,00</td></tr><tr><td>54</td><td>Tiano, Mike</td><td>3031,00</td></tr><tr><td>55</td><td>Egelund-Muller, Anja</td><td>5026,29</td></tr><tr><td>56</td><td>Marinova, Nadejda</td><td>2737,28</td></tr><tr><td>57</td><td>Tollevsen, Bjørn</td><td>NULL</td></tr><tr><td>58</td><td>Fakhouri, Fadi</td><td>1496,00</td></tr><tr><td>59</td><td>Meston, Tosh</td><td>3790,00</td></tr><tr><td>60</td><td>Uppal, Sunil</td><td>2633,90</td></tr><tr><td>61</td><td>Florczyk, Krzysztof</td><td>1353,60</td></tr><tr><td>62</td><td>Misiec, Anna</td><td>6373,83</td></tr><tr><td>63</td><td>Veronesi, Giorgio</td><td>37217,32</td></tr><tr><td>64</td><td>Gaffney, Lawrie</td><td>1694,70</td></tr><tr><td>65</td><td>Moore, Michael</td><td>21238,27</td></tr><tr><td>66</td><td>Voss, Florian</td><td>3967,30</td></tr><tr><td>67</td><td>Garden, Euan</td><td>6998,53</td></tr><tr><td>68</td><td>Myrcha, Jacek</td><td>4988,86</td></tr><tr><td>69</td><td>Watters, Jason M.</td><td>726,89</td></tr><tr><td>70</td><td>Ginters, Kaspars</td><td>3976,75</td></tr><tr><td>71</td><td>Navarro, Tomás</td><td>36310,11</td></tr><tr><td>72</td><td>Welcker, Brian</td><td>1630,00</td></tr><tr><td>73</td><td>Gonzalez, Nuria</td><td>232,09</td></tr><tr><td>74</td><td>O’Brien, Dave</td><td>2371,00</td></tr><tr><td>75</td><td>Wojciechowska, Agnieszka</td><td>1117,00</td></tr><tr><td>76</td><td>Gulbis, Katrin</td><td>11644,60</td></tr><tr><td>77</td><td>Osorio, Cristian</td><td>69,60</td></tr><tr><td>78</td><td>Young, Robin</td><td>326,00</td></tr><tr><td>79</td><td>Wickham, Jim</td><td>910,40</td></tr><tr><td>80</td><td>Geschwandtner, Jens</td><td>1874,50</td></tr><tr><td>81</td><td>Nagel, Jean-Philippe</td><td>4234,26</td></tr><tr><td>82</td><td>Veninga, Tjeerd</td><td>237,90</td></tr><tr><td>83</td><td>Fonteneau, Karl</td><td>4284,00</td></tr><tr><td>84</td><td>Tuntisangaroon, Sittichai</td><td>2576,45</td></tr><tr><td>85</td><td>McLin, Nkenge</td><td>NULL</td></tr><tr><td>86</td><td>Syamala, Manoj</td><td>1485,80</td></tr><tr><td>87</td><td>Ludwig, Michael</td><td>270,00</td></tr><tr><td>88</td><td>Li, Yan</td><td>1135,25</td></tr><tr><td>89</td><td>Smith Jr., Ronaldo</td><td>15278,90</td></tr><tr><td>90</td><td>Larsson, Katarina</td><td>1987,00</td></tr><tr><td>91</td><td>Conn, Steve</td><td>1865,10</td></tr></table>"
                    }
                }
            ],
            "execution_count": 9
        },
        {
            "cell_type": "markdown",
            "source": "4. Utilizando Funciones de Tabla en línea",
            "metadata": {}
        },
        {
            "cell_type": "markdown",
            "source": "4.1. Write a SELECT statement against the Sales.OrderValues view and retrieve the custid and\r\ntotalsalesamount columns as a total of the val column. Filter the results to include orders only for the\r\nyear 2007.",
            "metadata": {}
        },
        {
            "cell_type": "code",
            "source": "select \r\ncustid , sum(val) as totalsalesamount\r\nfrom sales.ordervalues\r\nwhere year(orderdate) = 2007\r\ngroup by custid\r\ngo",
            "metadata": {},
            "outputs": [
                {
                    "output_type": "display_data",
                    "data": {
                        "text/html": "(86 rows affected)"
                    },
                    "metadata": {}
                },
                {
                    "output_type": "display_data",
                    "data": {
                        "text/html": "Total execution time: 00:00:00.149"
                    },
                    "metadata": {}
                },
                {
                    "output_type": "execute_result",
                    "metadata": {},
                    "execution_count": 12,
                    "data": {
                        "application/vnd.dataresource+json": {
                            "schema": {
                                "fields": [
                                    {
                                        "name": "custid"
                                    },
                                    {
                                        "name": "totalsalesamount"
                                    }
                                ]
                            },
                            "data": [
                                {
                                    "0": "1",
                                    "1": "2022,50"
                                },
                                {
                                    "0": "2",
                                    "1": "799,75"
                                },
                                {
                                    "0": "3",
                                    "1": "5960,78"
                                },
                                {
                                    "0": "4",
                                    "1": "6406,90"
                                },
                                {
                                    "0": "5",
                                    "1": "13849,02"
                                },
                                {
                                    "0": "6",
                                    "1": "1079,80"
                                },
                                {
                                    "0": "7",
                                    "1": "7817,88"
                                },
                                {
                                    "0": "8",
                                    "1": "3026,85"
                                },
                                {
                                    "0": "9",
                                    "1": "11208,36"
                                },
                                {
                                    "0": "10",
                                    "1": "7630,25"
                                },
                                {
                                    "0": "11",
                                    "1": "3179,50"
                                },
                                {
                                    "0": "12",
                                    "1": "238,00"
                                },
                                {
                                    "0": "14",
                                    "1": "6516,40"
                                },
                                {
                                    "0": "15",
                                    "1": "1128,00"
                                },
                                {
                                    "0": "16",
                                    "1": "787,60"
                                },
                                {
                                    "0": "17",
                                    "1": "420,00"
                                },
                                {
                                    "0": "18",
                                    "1": "487,00"
                                },
                                {
                                    "0": "19",
                                    "1": "4514,35"
                                },
                                {
                                    "0": "20",
                                    "1": "48096,27"
                                },
                                {
                                    "0": "21",
                                    "1": "3127,13"
                                },
                                {
                                    "0": "23",
                                    "1": "11666,90"
                                },
                                {
                                    "0": "24",
                                    "1": "13314,67"
                                },
                                {
                                    "0": "25",
                                    "1": "11829,79"
                                },
                                {
                                    "0": "26",
                                    "1": "920,10"
                                },
                                {
                                    "0": "27",
                                    "1": "249,70"
                                },
                                {
                                    "0": "28",
                                    "1": "5065,33"
                                },
                                {
                                    "0": "29",
                                    "1": "493,20"
                                },
                                {
                                    "0": "30",
                                    "1": "3458,35"
                                },
                                {
                                    "0": "31",
                                    "1": "8008,79"
                                },
                                {
                                    "0": "32",
                                    "1": "8565,32"
                                },
                                {
                                    "0": "33",
                                    "1": "387,50"
                                },
                                {
                                    "0": "34",
                                    "1": "6022,77"
                                },
                                {
                                    "0": "35",
                                    "1": "13482,74"
                                },
                                {
                                    "0": "36",
                                    "1": "2283,20"
                                },
                                {
                                    "0": "37",
                                    "1": "20454,41"
                                },
                                {
                                    "0": "38",
                                    "1": "2560,50"
                                },
                                {
                                    "0": "39",
                                    "1": "9664,21"
                                },
                                {
                                    "0": "41",
                                    "1": "6923,87"
                                },
                                {
                                    "0": "42",
                                    "1": "335,50"
                                },
                                {
                                    "0": "43",
                                    "1": "357,00"
                                },
                                {
                                    "0": "44",
                                    "1": "13076,13"
                                },
                                {
                                    "0": "45",
                                    "1": "1698,40"
                                },
                                {
                                    "0": "46",
                                    "1": "5175,20"
                                },
                                {
                                    "0": "47",
                                    "1": "7359,48"
                                },
                                {
                                    "0": "48",
                                    "1": "1837,20"
                                },
                                {
                                    "0": "49",
                                    "1": "4695,88"
                                },
                                {
                                    "0": "50",
                                    "1": "5297,00"
                                },
                                {
                                    "0": "51",
                                    "1": "23332,31"
                                },
                                {
                                    "0": "52",
                                    "1": "3596,40"
                                },
                                {
                                    "0": "53",
                                    "1": "604,00"
                                },
                                {
                                    "0": "54",
                                    "1": "429,20"
                                },
                                {
                                    "0": "55",
                                    "1": "5475,38"
                                },
                                {
                                    "0": "56",
                                    "1": "8254,28"
                                },
                                {
                                    "0": "58",
                                    "1": "2065,40"
                                },
                                {
                                    "0": "59",
                                    "1": "9305,58"
                                },
                                {
                                    "0": "60",
                                    "1": "1409,20"
                                },
                                {
                                    "0": "61",
                                    "1": "3502,41"
                                },
                                {
                                    "0": "62",
                                    "1": "10132,77"
                                },
                                {
                                    "0": "63",
                                    "1": "61109,92"
                                },
                                {
                                    "0": "64",
                                    "1": "1149,40"
                                },
                                {
                                    "0": "65",
                                    "1": "19383,75"
                                },
                                {
                                    "0": "66",
                                    "1": "3000,84"
                                },
                                {
                                    "0": "67",
                                    "1": "4283,78"
                                },
                                {
                                    "0": "68",
                                    "1": "11864,42"
                                },
                                {
                                    "0": "70",
                                    "1": "700,00"
                                },
                                {
                                    "0": "71",
                                    "1": "57713,58"
                                },
                                {
                                    "0": "72",
                                    "1": "9021,25"
                                },
                                {
                                    "0": "73",
                                    "1": "16232,41"
                                },
                                {
                                    "0": "74",
                                    "1": "52,35"
                                },
                                {
                                    "0": "75",
                                    "1": "2475,00"
                                },
                                {
                                    "0": "76",
                                    "1": "6137,48"
                                },
                                {
                                    "0": "77",
                                    "1": "2955,40"
                                },
                                {
                                    "0": "78",
                                    "1": "1621,24"
                                },
                                {
                                    "0": "79",
                                    "1": "2004,34"
                                },
                                {
                                    "0": "80",
                                    "1": "5523,35"
                                },
                                {
                                    "0": "81",
                                    "1": "1320,40"
                                },
                                {
                                    "0": "82",
                                    "1": "1333,30"
                                },
                                {
                                    "0": "83",
                                    "1": "8960,13"
                                },
                                {
                                    "0": "84",
                                    "1": "5807,12"
                                },
                                {
                                    "0": "85",
                                    "1": "379,80"
                                },
                                {
                                    "0": "86",
                                    "1": "4262,83"
                                },
                                {
                                    "0": "87",
                                    "1": "12262,94"
                                },
                                {
                                    "0": "88",
                                    "1": "4415,15"
                                },
                                {
                                    "0": "89",
                                    "1": "9146,51"
                                },
                                {
                                    "0": "90",
                                    "1": "1174,35"
                                },
                                {
                                    "0": "91",
                                    "1": "1207,85"
                                }
                            ]
                        },
                        "text/html": "<table><tr><th>custid</th><th>totalsalesamount</th></tr><tr><td>1</td><td>2022,50</td></tr><tr><td>2</td><td>799,75</td></tr><tr><td>3</td><td>5960,78</td></tr><tr><td>4</td><td>6406,90</td></tr><tr><td>5</td><td>13849,02</td></tr><tr><td>6</td><td>1079,80</td></tr><tr><td>7</td><td>7817,88</td></tr><tr><td>8</td><td>3026,85</td></tr><tr><td>9</td><td>11208,36</td></tr><tr><td>10</td><td>7630,25</td></tr><tr><td>11</td><td>3179,50</td></tr><tr><td>12</td><td>238,00</td></tr><tr><td>14</td><td>6516,40</td></tr><tr><td>15</td><td>1128,00</td></tr><tr><td>16</td><td>787,60</td></tr><tr><td>17</td><td>420,00</td></tr><tr><td>18</td><td>487,00</td></tr><tr><td>19</td><td>4514,35</td></tr><tr><td>20</td><td>48096,27</td></tr><tr><td>21</td><td>3127,13</td></tr><tr><td>23</td><td>11666,90</td></tr><tr><td>24</td><td>13314,67</td></tr><tr><td>25</td><td>11829,79</td></tr><tr><td>26</td><td>920,10</td></tr><tr><td>27</td><td>249,70</td></tr><tr><td>28</td><td>5065,33</td></tr><tr><td>29</td><td>493,20</td></tr><tr><td>30</td><td>3458,35</td></tr><tr><td>31</td><td>8008,79</td></tr><tr><td>32</td><td>8565,32</td></tr><tr><td>33</td><td>387,50</td></tr><tr><td>34</td><td>6022,77</td></tr><tr><td>35</td><td>13482,74</td></tr><tr><td>36</td><td>2283,20</td></tr><tr><td>37</td><td>20454,41</td></tr><tr><td>38</td><td>2560,50</td></tr><tr><td>39</td><td>9664,21</td></tr><tr><td>41</td><td>6923,87</td></tr><tr><td>42</td><td>335,50</td></tr><tr><td>43</td><td>357,00</td></tr><tr><td>44</td><td>13076,13</td></tr><tr><td>45</td><td>1698,40</td></tr><tr><td>46</td><td>5175,20</td></tr><tr><td>47</td><td>7359,48</td></tr><tr><td>48</td><td>1837,20</td></tr><tr><td>49</td><td>4695,88</td></tr><tr><td>50</td><td>5297,00</td></tr><tr><td>51</td><td>23332,31</td></tr><tr><td>52</td><td>3596,40</td></tr><tr><td>53</td><td>604,00</td></tr><tr><td>54</td><td>429,20</td></tr><tr><td>55</td><td>5475,38</td></tr><tr><td>56</td><td>8254,28</td></tr><tr><td>58</td><td>2065,40</td></tr><tr><td>59</td><td>9305,58</td></tr><tr><td>60</td><td>1409,20</td></tr><tr><td>61</td><td>3502,41</td></tr><tr><td>62</td><td>10132,77</td></tr><tr><td>63</td><td>61109,92</td></tr><tr><td>64</td><td>1149,40</td></tr><tr><td>65</td><td>19383,75</td></tr><tr><td>66</td><td>3000,84</td></tr><tr><td>67</td><td>4283,78</td></tr><tr><td>68</td><td>11864,42</td></tr><tr><td>70</td><td>700,00</td></tr><tr><td>71</td><td>57713,58</td></tr><tr><td>72</td><td>9021,25</td></tr><tr><td>73</td><td>16232,41</td></tr><tr><td>74</td><td>52,35</td></tr><tr><td>75</td><td>2475,00</td></tr><tr><td>76</td><td>6137,48</td></tr><tr><td>77</td><td>2955,40</td></tr><tr><td>78</td><td>1621,24</td></tr><tr><td>79</td><td>2004,34</td></tr><tr><td>80</td><td>5523,35</td></tr><tr><td>81</td><td>1320,40</td></tr><tr><td>82</td><td>1333,30</td></tr><tr><td>83</td><td>8960,13</td></tr><tr><td>84</td><td>5807,12</td></tr><tr><td>85</td><td>379,80</td></tr><tr><td>86</td><td>4262,83</td></tr><tr><td>87</td><td>12262,94</td></tr><tr><td>88</td><td>4415,15</td></tr><tr><td>89</td><td>9146,51</td></tr><tr><td>90</td><td>1174,35</td></tr><tr><td>91</td><td>1207,85</td></tr></table>"
                    }
                }
            ],
            "execution_count": 12
        },
        {
            "cell_type": "markdown",
            "source": "4.2. Define an inline TVF using the following function header and add your previous query after the\r\nRETURN clause:\r\nModify the query by replacing the constant year value 2007 in the WHERE clause with the parameter\r\n@orderyear",
            "metadata": {}
        },
        {
            "cell_type": "code",
            "source": "create FUNCTION dbo.fnGetSalesByCustomer\r\n(@orderyear AS INT) RETURNS TABLE\r\nAS\r\nRETURN\r\nSELECT\r\ncustid, SUM(val) AS totalsalesamount\r\nFROM Sales.OrderValues\r\nWHERE YEAR(orderdate) = @orderyear\r\nGROUP BY custid;\r\nGO",
            "metadata": {},
            "outputs": [
                {
                    "output_type": "error",
                    "evalue": "Msg 2714, Level 16, State 3, Procedure fnGetSalesByCustomer, Line 1\r\nYa hay un objeto con el nombre 'fnGetSalesByCustomer' en la base de datos.",
                    "ename": "",
                    "traceback": []
                },
                {
                    "output_type": "display_data",
                    "data": {
                        "text/html": "Total execution time: 00:00:00.002"
                    },
                    "metadata": {}
                }
            ],
            "execution_count": 21
        },
        {
            "cell_type": "markdown",
            "source": "4.3. Write a SELECT statement that retrieves the top three sold products based on the total sales value for the customer\r\nwith ID 1. Return the productid and productname columns from the Production.Products table. Use\r\nthe qty and unitprice columns from the Sales.OrderDetails table to compute each order line’s value,\r\nand return the sum of all values per product, naming the resulting column totalsalesamount. Filter the\r\nresults to include only the rows where the custid value is equal to 1.",
            "metadata": {}
        },
        {
            "cell_type": "code",
            "source": "SELECT TOP(3)\r\n    d.productid,\r\n    MAX(p.productname) AS productname,\r\n    SUM(d.qty * d.unitprice) AS totalsalesamount\r\nFROM Sales.Orders AS o\r\nINNER JOIN Sales.OrderDetails AS d ON d.orderid = o.orderid\r\nINNER JOIN Production.Products AS p ON p.productid = d.productid\r\nWHERE custid = 1\r\nGROUP BY d.productid\r\nORDER BY totalsalesamount DESC;\r\n\r\nGO",
            "metadata": {},
            "outputs": [
                {
                    "output_type": "display_data",
                    "data": {
                        "text/html": "(3 rows affected)"
                    },
                    "metadata": {}
                },
                {
                    "output_type": "display_data",
                    "data": {
                        "text/html": "Total execution time: 00:00:00.145"
                    },
                    "metadata": {}
                },
                {
                    "output_type": "execute_result",
                    "metadata": {},
                    "execution_count": 25,
                    "data": {
                        "application/vnd.dataresource+json": {
                            "schema": {
                                "fields": [
                                    {
                                        "name": "productid"
                                    },
                                    {
                                        "name": "productname"
                                    },
                                    {
                                        "name": "totalsalesamount"
                                    }
                                ]
                            },
                            "data": [
                                {
                                    "0": "63",
                                    "1": "Product ICKNK",
                                    "2": "878,0000"
                                },
                                {
                                    "0": "59",
                                    "1": "Product UKXRI",
                                    "2": "825,0000"
                                },
                                {
                                    "0": "28",
                                    "1": "Product OFBNT",
                                    "2": "775,2000"
                                }
                            ]
                        },
                        "text/html": "<table><tr><th>productid</th><th>productname</th><th>totalsalesamount</th></tr><tr><td>63</td><td>Product ICKNK</td><td>878,0000</td></tr><tr><td>59</td><td>Product UKXRI</td><td>825,0000</td></tr><tr><td>28</td><td>Product OFBNT</td><td>775,2000</td></tr></table>"
                    }
                }
            ],
            "execution_count": 25
        },
        {
            "cell_type": "markdown",
            "source": "4.4. Create an inline TVF based on the following function header, using the previous SELECT statement.\r\nReplace the constant custid value 1 in the query with the function’s input parameter @custid:",
            "metadata": {}
        },
        {
            "cell_type": "code",
            "source": "CREATE FUNCTION dbo.fnGetTop3ProductsForCustomer\r\n(@custid AS INT) RETURNS TABLE\r\nAS\r\nRETURN\r\nSELECT TOP(3)\r\n    d.productid,\r\n    MAX(p.productname) AS productname,\r\n    SUM(d.qty * d.unitprice) AS totalsalesamount\r\nFROM Sales.Orders AS o\r\nINNER JOIN Sales.OrderDetails AS d ON d.orderid = o.orderid \r\nINNER JOIN Production.Products AS p ON p.productid = d.productid\r\nWHERE custid = @custid\r\nGROUP BY d.productid\r\nORDER BY totalsalesamount DESC;\r\n\r\nGO",
            "metadata": {},
            "outputs": [
                {
                    "output_type": "display_data",
                    "data": {
                        "text/html": "Commands completed successfully."
                    },
                    "metadata": {}
                },
                {
                    "output_type": "display_data",
                    "data": {
                        "text/html": "Total execution time: 00:00:00.017"
                    },
                    "metadata": {}
                }
            ],
            "execution_count": 23
        },
        {
            "cell_type": "markdown",
            "source": "4.5. Test the created inline TVF by writing a SELECT statement against it and use the value 1 for the\r\ncustomer ID parameter. Retrieve the productid, productname, and totalsalesamount columns, and use\r\nthe alias “p” for the inline TVF",
            "metadata": {}
        },
        {
            "cell_type": "code",
            "source": "SELECT \r\np.productid,\r\np.productname,\r\np.totalsalesamount\r\nfrom dbo.fnGetTop3ProductsForCustomer(5) as p",
            "metadata": {},
            "outputs": [
                {
                    "output_type": "display_data",
                    "data": {
                        "text/html": "(3 rows affected)"
                    },
                    "metadata": {}
                },
                {
                    "output_type": "display_data",
                    "data": {
                        "text/html": "Total execution time: 00:00:00.095"
                    },
                    "metadata": {}
                },
                {
                    "output_type": "execute_result",
                    "metadata": {},
                    "execution_count": 36,
                    "data": {
                        "application/vnd.dataresource+json": {
                            "schema": {
                                "fields": [
                                    {
                                        "name": "productid"
                                    },
                                    {
                                        "name": "productname"
                                    },
                                    {
                                        "name": "totalsalesamount"
                                    }
                                ]
                            },
                            "data": [
                                {
                                    "0": "38",
                                    "1": "Product QDOMO",
                                    "2": "3952,5000"
                                },
                                {
                                    "0": "43",
                                    "1": "Product ZZZHR",
                                    "2": "2760,0000"
                                },
                                {
                                    "0": "28",
                                    "1": "Product OFBNT",
                                    "2": "2280,0000"
                                }
                            ]
                        },
                        "text/html": "<table><tr><th>productid</th><th>productname</th><th>totalsalesamount</th></tr><tr><td>38</td><td>Product QDOMO</td><td>3952,5000</td></tr><tr><td>43</td><td>Product ZZZHR</td><td>2760,0000</td></tr><tr><td>28</td><td>Product OFBNT</td><td>2280,0000</td></tr></table>"
                    }
                }
            ],
            "execution_count": 36
        },
        {
            "cell_type": "markdown",
            "source": "4.6. Escribir el código necesario para limpiar todos los cambios realizados",
            "metadata": {}
        },
        {
            "cell_type": "code",
            "source": "\r\nDROP VIEW Production.ProductsBeverages;\r\nGO\r\nDROP FUNCTION dbo.fnGetSalesByCustomer;\r\nGO\r\nDROP FUNCTION dbo.fnGetTop3ProductsForCustomer;",
            "metadata": {},
            "outputs": [
                {
                    "output_type": "display_data",
                    "data": {
                        "text/html": "Commands completed successfully."
                    },
                    "metadata": {}
                },
                {
                    "output_type": "display_data",
                    "data": {
                        "text/html": "Commands completed successfully."
                    },
                    "metadata": {}
                },
                {
                    "output_type": "display_data",
                    "data": {
                        "text/html": "Commands completed successfully."
                    },
                    "metadata": {}
                },
                {
                    "output_type": "display_data",
                    "data": {
                        "text/html": "Total execution time: 00:00:00.033"
                    },
                    "metadata": {}
                }
            ],
            "execution_count": 37
        }
    ]
}